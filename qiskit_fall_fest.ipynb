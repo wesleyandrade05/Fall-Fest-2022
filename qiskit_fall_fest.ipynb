{
 "cells": [
  {
   "cell_type": "code",
   "execution_count": null,
   "metadata": {},
   "outputs": [],
   "source": [
    "import numpy as np\n",
    "from qiskit import *\n",
    "\n",
    "string = input(\"String: \")\n",
    "\n",
    "qc = QuantumCircuit(len(string), len(string))\n",
    "\n",
    "for i in range(len(string)):\n",
    "    if string[i] == \"1\":\n",
    "        qc.x(i)\n",
    "        qc.z(i)\n",
    "        qc.measure(i, i)\n",
    "        qc.z(i)\n",
    "    else:\n",
    "        qc.measure(i, i)\n",
    "\n",
    "qc.draw('mpl')\n",
    "\n"
   ]
  }
 ],
 "metadata": {
  "kernelspec": {
   "display_name": "Python 3.9.6 64-bit",
   "language": "python",
   "name": "python3"
  },
  "language_info": {
   "codemirror_mode": {
    "name": "ipython",
    "version": 3
   },
   "file_extension": ".py",
   "mimetype": "text/x-python",
   "name": "python",
   "nbconvert_exporter": "python",
   "pygments_lexer": "ipython3",
   "version": "3.9.6"
  },
  "orig_nbformat": 4,
  "vscode": {
   "interpreter": {
    "hash": "5edc29c2ed010d6458d71a83433b383a96a8cbd3efe8531bc90c4b8a5b8bcec9"
   }
  }
 },
 "nbformat": 4,
 "nbformat_minor": 2
}
